{
 "cells": [
  {
   "cell_type": "markdown",
   "id": "7266022d411c887f",
   "metadata": {},
   "source": [
    "# Ejercicio 01: Recuperación de Información Basado en el Modelo de Matriz Término-Documento\n",
    "\n",
    "### Nombre: Galo Tarapues\n",
    "En este ejercicio, trabajaremos con un corpus de documentos en formato JSON para implementar un sistema de Recuperación de Información basado en el modelo de espacio vectorial. Seguirás los siguientes pasos:"
   ]
  },
  {
   "cell_type": "markdown",
   "id": "b20440e0de103cf3",
   "metadata": {},
   "source": [
    "## Paso 1: Determinar un vocabulario\n",
    "El primer paso es cargar el corpus en formato JSON, extraer los textos de los documentos y crear el vocabulario."
   ]
  },
  {
   "cell_type": "code",
   "execution_count": 2,
   "id": "initial_id",
   "metadata": {
    "ExecuteTime": {
     "end_time": "2024-10-22T12:22:34.639750Z",
     "start_time": "2024-10-22T12:22:34.631518Z"
    }
   },
   "outputs": [],
   "source": [
    "import json\n",
    "\n",
    "datos = []\n",
    "with open(file='../data/01tdmatrix_corpus.json', mode='r', encoding='utf-8') as file:\n",
    "    datos = json.load(file)"
   ]
  },
  {
   "cell_type": "code",
   "execution_count": 4,
   "id": "63b72fa9-07d7-470c-adf6-459b10853cba",
   "metadata": {
    "ExecuteTime": {
     "end_time": "2024-10-22T12:28:42.503285Z",
     "start_time": "2024-10-22T12:28:42.487436Z"
    }
   },
   "outputs": [
    {
     "name": "stdout",
     "output_type": "stream",
     "text": [
      "la inteligencia artificial continúa avanzando rápidamente, transformando sectores como la salud y las finanzas. las empresas están adoptando algoritmos de aprendizaje automático para mejorar la eficiencia. sin embargo, el desafío principal sigue siendo garantizar que las decisiones basadas en datos sean justas y no perpetúen sesgos. la ética es fundamental en este contexto.\n"
     ]
    }
   ],
   "source": [
    "print(datos[0]['text'].lower())"
   ]
  },
  {
   "cell_type": "code",
   "execution_count": 6,
   "id": "186d5925bdd633b0",
   "metadata": {
    "ExecuteTime": {
     "end_time": "2024-10-22T12:29:11.334724Z",
     "start_time": "2024-10-22T12:29:11.319181Z"
    }
   },
   "outputs": [
    {
     "name": "stdout",
     "output_type": "stream",
     "text": [
      "['la', 'inteligencia', 'artificial', 'continúa', 'avanzando', 'rápidamente,', 'transformando', 'sectores', 'como', 'la', 'salud', 'y', 'las', 'finanzas.', 'las', 'empresas', 'están', 'adoptando', 'algoritmos', 'de', 'aprendizaje', 'automático', 'para', 'mejorar', 'la', 'eficiencia.', 'sin', 'embargo,', 'el', 'desafío', 'principal', 'sigue', 'siendo', 'garantizar', 'que', 'las', 'decisiones', 'basadas', 'en', 'datos', 'sean', 'justas', 'y', 'no', 'perpetúen', 'sesgos.', 'la', 'ética', 'es', 'fundamental', 'en', 'este', 'contexto.']\n"
     ]
    }
   ],
   "source": [
    "print(datos[0]['text'].lower().split())"
   ]
  },
  {
   "cell_type": "code",
   "execution_count": 8,
   "id": "63b4fbc92a3a663d",
   "metadata": {
    "ExecuteTime": {
     "end_time": "2024-10-22T12:29:44.074040Z",
     "start_time": "2024-10-22T12:29:44.059539Z"
    }
   },
   "outputs": [
    {
     "name": "stdout",
     "output_type": "stream",
     "text": [
      "{'empresas', 'sigue', 'siendo', 'decisiones', 'las', 'desafío', 'automático', 'para', 'la', 'rápidamente,', 'el', 'que', 'contexto.', 'embargo,', 'garantizar', 'es', 'ética', 'como', 'fundamental', 'continúa', 'perpetúen', 'artificial', 'transformando', 'sin', 'no', 'inteligencia', 'salud', 'finanzas.', 'sean', 'basadas', 'justas', 'aprendizaje', 'mejorar', 'principal', 'y', 'adoptando', 'en', 'este', 'datos', 'de', 'avanzando', 'están', 'eficiencia.', 'sectores', 'sesgos.', 'algoritmos'}\n",
      "46\n"
     ]
    }
   ],
   "source": [
    "vocab = set(datos[0]['text'].lower().split())\n",
    "print(vocab)\n",
    "print(len(vocab))"
   ]
  },
  {
   "cell_type": "code",
   "execution_count": 10,
   "id": "5eded2ae4aeba3e2",
   "metadata": {
    "ExecuteTime": {
     "end_time": "2024-10-22T12:36:39.293698Z",
     "start_time": "2024-10-22T12:36:39.280871Z"
    }
   },
   "outputs": [
    {
     "name": "stdout",
     "output_type": "stream",
     "text": [
      "230\n",
      "{'educativa', 'enfermedades', 'alcanzado', 'interactuar', 'trabajos', 'programas', 'cuándo', 'evolucionado', 'ha', 'utilizan', 'sus', 'futuro', 'la', 'compras', 'que', 'está', 'espectadores', 'consumidores', 'falta', 'realistas', 'producciones', 'consume', 'cuidados', 'cambiando', 'hábitos', 'cambiado', 'continúa', 'especialmente', 'incorporando', 'transformando', 'cursos', 'hasta', 'ciencia', 'viaje', 'sean', 'basadas', 'con', 'películas', 'un', 'streaming', 'presencial', 'literarios', 'avanzadas', 'crecimiento', 'tecnológicos', 'muchas', 'además', 'aprendizaje', 'donde', 'compramos', 'prometedor', 'solo', 'línea', 'permitido', 'eficiencia', 'pagos', 'aplicaciones', 'recomendaciones', 'distancia', 'mayores', 'géneros', 'empresas', 'una', 'libros', 'contenido', 'enfoque', 'importar', 'aumentada', 'médicos', 'demanda', 'nuevas', 'vida', 'acceso', 'sobre', 'integral', 'experiencia', 'virtuales', 'real', 'se', 'calidad', 'tecnología', 'mejorando', 'e-sports', 'personalizadas', 'ética', 'monitorean', 'como', 'los', 'perpetúen', 'promueven', 'jugadores', 'series', 'buscan', 'artificial', 'transacciones', 'tratamientos', 'ficción', 'salud', 'cinematográficas', 'impulsa', 'telemedicina', 'diagnostican', 'democratizando', 'creciente', 'escenas', 'portátiles', 'rápidamente', 'electrónico', 'interacción', 'mundo', 'mundos', 'este', 'educación', 'plataformas', 'embargo', 'efectos', 'avanzando', 'invita', 'reflexionar', 'humanidad', 'saludables', 'sectores', 'bienestar', 'ofrecer', 'explorando', 'desarrollo', 'personalizados', 'siendo', 'años', 'populares', 'accesibles', 'sino', 'tecnologías', 'herramientas', 'el', 'crear', 'medicina', 'también', 'inmersivos', 'rápidos', 'completo', 'llevado', 'garantizar', 'tiempo', 'estudiantes', 'es', 'aumento', 'profesionales', 'sin', 'eficaces', 'aquellos', 'optimizando', 'mercado', 'nuevo', 'personas', 'videojuegos', 'adopción', 'cine', 'todo', 'justas', 'implicaciones', 'sesgos', 'realidad', 'facilitando', 'género', 'y', 'adoptando', 'en', 'tratan', 'atraen', 'permitiendo', 'forma', 'digitales', 'uno', 'cada', 'ubicación', 'están', 'algoritmos', 'desde', 'mejores', 'su', 'transformado', 'sigue', 'millones', 'decisiones', 'diarias', 'las', 'desafío', 'entretiene', 'otros', 'vez', 'automático', 'para', 'reto', 'planetas', 'dispositivos', 'visuales', 'a', 'usuario', 'cómo', 'fundamental', 'acceder', 'desafían', 'comercio', 'no', 'inteligencia', 'convertido', 'nivel', 'finanzas', 'aunque', 'competencias', 'contexto', 'mejorar', 'principal', 'pueden', 'avances', 'personal', 'beneficios', 'individual', 'flexibilidad', 'prioridad', 'temas', 'datos', 'ahora', 'de', 'más', 'experiencias', 'siguen', 'habilidades', 'público'}\n"
     ]
    }
   ],
   "source": [
    "vocab = []\n",
    "for i in range(0,len(datos)):\n",
    "    vocab.extend(datos[i]['text'].lower().replace(',','').replace('.','').split())\n",
    "\n",
    "vocab = set(vocab)\n",
    "print(len(vocab))\n",
    "print(vocab)"
   ]
  },
  {
   "cell_type": "markdown",
   "id": "549d0d8b6f7ed0a2",
   "metadata": {},
   "source": [
    "## Paso 2: Calcular una matriz término-documento\n",
    "Una vez que tenemos el vocabulario, el siguiente paso es construir una **matriz término-documento**, que nos permitirá representar cada documento como un vector en el espacio de términos."
   ]
  },
  {
   "cell_type": "code",
   "execution_count": 12,
   "id": "4b35c2996c774ec2",
   "metadata": {
    "ExecuteTime": {
     "end_time": "2024-10-22T13:00:04.977448Z",
     "start_time": "2024-10-22T13:00:04.961452Z"
    }
   },
   "outputs": [],
   "source": [
    "def tdtransform(text):\n",
    "    doc = []\n",
    "    for word in vocab:\n",
    "        if word in text.lower().replace(',','').replace('.','').split():\n",
    "           doc.append(1)\n",
    "        else:\n",
    "            doc.append(0)\n",
    "    return doc"
   ]
  },
  {
   "cell_type": "code",
   "execution_count": 14,
   "id": "1b052a6cd19731a5",
   "metadata": {
    "ExecuteTime": {
     "end_time": "2024-10-22T13:00:30.419629Z",
     "start_time": "2024-10-22T13:00:30.382836Z"
    }
   },
   "outputs": [
    {
     "name": "stdout",
     "output_type": "stream",
     "text": [
      "[[0, 0, 0, 0, 0, 0, 0, 0, 0, 0, 0, 0, 1, 0, 1, 0, 0, 0, 0, 0, 0, 0, 0, 0, 0, 0, 1, 0, 0, 1, 0, 0, 0, 0, 1, 1, 0, 0, 0, 0, 0, 0, 0, 0, 0, 0, 0, 1, 0, 0, 0, 0, 0, 0, 1, 0, 0, 0, 0, 0, 0, 1, 0, 0, 0, 0, 0, 0, 0, 0, 0, 0, 0, 0, 0, 0, 0, 0, 0, 0, 0, 0, 0, 0, 1, 0, 1, 0, 1, 0, 0, 0, 0, 1, 0, 0, 0, 1, 0, 0, 0, 0, 0, 0, 0, 0, 1, 0, 0, 0, 0, 1, 0, 0, 1, 0, 1, 0, 0, 0, 0, 1, 0, 0, 0, 0, 0, 1, 0, 0, 0, 0, 0, 0, 1, 0, 0, 0, 0, 0, 0, 0, 1, 0, 0, 1, 0, 0, 1, 0, 0, 0, 0, 0, 0, 0, 0, 0, 0, 1, 0, 1, 0, 0, 0, 1, 1, 1, 0, 0, 0, 0, 0, 0, 0, 0, 1, 1, 0, 0, 0, 0, 1, 0, 1, 0, 1, 1, 0, 0, 0, 1, 1, 0, 0, 0, 0, 0, 0, 0, 1, 0, 0, 0, 1, 1, 0, 0, 1, 0, 0, 1, 1, 1, 0, 0, 0, 0, 0, 0, 0, 0, 1, 0, 1, 0, 0, 0, 0, 0], [0, 0, 1, 1, 0, 0, 0, 0, 1, 0, 0, 0, 1, 0, 0, 0, 1, 0, 0, 0, 0, 0, 0, 0, 0, 0, 0, 0, 0, 0, 0, 0, 0, 0, 0, 0, 1, 0, 1, 0, 0, 0, 0, 1, 0, 0, 0, 0, 1, 0, 0, 0, 0, 0, 0, 0, 0, 0, 0, 0, 0, 0, 0, 0, 0, 0, 0, 1, 0, 0, 0, 0, 0, 0, 0, 0, 1, 0, 0, 0, 0, 0, 1, 0, 0, 0, 1, 1, 0, 0, 1, 0, 0, 1, 0, 0, 0, 0, 0, 1, 0, 0, 0, 0, 0, 0, 0, 0, 0, 1, 1, 1, 0, 0, 0, 0, 0, 0, 0, 0, 0, 0, 0, 0, 0, 1, 0, 0, 0, 0, 0, 0, 1, 0, 1, 0, 0, 1, 1, 0, 0, 0, 0, 0, 0, 0, 0, 1, 0, 0, 0, 0, 1, 1, 0, 1, 0, 0, 1, 0, 0, 0, 1, 0, 0, 1, 0, 1, 0, 1, 0, 0, 0, 0, 0, 0, 0, 0, 0, 0, 0, 0, 0, 1, 0, 0, 1, 0, 0, 0, 0, 0, 0, 0, 0, 0, 0, 1, 0, 0, 0, 0, 0, 0, 0, 1, 0, 1, 0, 0, 1, 0, 0, 0, 1, 0, 0, 0, 0, 0, 0, 0, 0, 1, 1, 1, 0, 0, 0, 0], [0, 0, 0, 0, 0, 0, 0, 0, 1, 0, 1, 0, 1, 1, 1, 0, 0, 1, 0, 0, 0, 0, 0, 0, 0, 1, 0, 0, 0, 0, 0, 1, 0, 0, 0, 0, 1, 0, 0, 0, 0, 0, 0, 0, 0, 0, 0, 0, 0, 1, 0, 0, 1, 0, 0, 1, 0, 1, 0, 0, 0, 1, 0, 0, 0, 0, 0, 0, 0, 1, 0, 0, 0, 0, 0, 0, 0, 0, 0, 0, 1, 0, 0, 1, 0, 0, 0, 1, 0, 0, 0, 0, 0, 0, 1, 0, 0, 0, 0, 0, 0, 0, 0, 1, 0, 0, 0, 1, 0, 0, 0, 0, 0, 1, 0, 0, 0, 0, 0, 0, 0, 0, 0, 1, 0, 0, 0, 0, 0, 0, 0, 0, 0, 0, 1, 0, 0, 0, 0, 1, 0, 0, 0, 0, 0, 0, 0, 0, 0, 0, 0, 1, 0, 0, 0, 0, 0, 0, 0, 0, 0, 0, 0, 1, 0, 0, 0, 1, 0, 0, 0, 1, 1, 0, 0, 0, 1, 0, 1, 1, 0, 0, 0, 0, 0, 1, 1, 0, 0, 0, 0, 0, 1, 0, 0, 0, 0, 0, 1, 0, 0, 0, 0, 1, 0, 0, 0, 0, 0, 0, 0, 0, 0, 0, 0, 1, 0, 0, 0, 0, 0, 0, 0, 0, 1, 0, 1, 1, 0, 0], [1, 0, 0, 0, 1, 1, 0, 0, 1, 0, 0, 0, 1, 0, 0, 0, 0, 0, 1, 0, 0, 0, 0, 0, 0, 0, 0, 1, 0, 0, 0, 0, 0, 0, 0, 0, 1, 0, 1, 0, 1, 0, 0, 0, 0, 0, 0, 0, 0, 0, 0, 0, 0, 1, 0, 0, 0, 0, 1, 1, 0, 0, 0, 0, 0, 0, 1, 0, 0, 0, 0, 0, 0, 0, 0, 1, 0, 0, 0, 1, 0, 1, 0, 0, 0, 0, 0, 1, 0, 0, 0, 0, 0, 0, 0, 0, 0, 0, 0, 0, 0, 0, 0, 0, 0, 0, 0, 0, 1, 0, 0, 0, 1, 0, 0, 0, 0, 0, 0, 0, 0, 0, 0, 0, 0, 0, 0, 0, 0, 0, 0, 0, 0, 1, 0, 0, 0, 0, 0, 0, 1, 0, 0, 1, 1, 1, 0, 0, 1, 0, 1, 0, 0, 0, 0, 0, 0, 0, 0, 0, 0, 0, 0, 0, 0, 0, 0, 0, 0, 0, 0, 0, 1, 1, 0, 1, 0, 0, 0, 0, 1, 0, 0, 1, 0, 0, 1, 0, 0, 0, 0, 0, 1, 1, 0, 0, 0, 1, 0, 0, 0, 1, 0, 0, 0, 0, 0, 0, 0, 1, 0, 0, 0, 0, 0, 0, 0, 1, 0, 1, 0, 0, 0, 0, 1, 0, 0, 1, 0, 0], [0, 0, 0, 0, 0, 0, 1, 1, 1, 1, 0, 0, 1, 0, 1, 0, 0, 0, 0, 1, 1, 1, 0, 0, 0, 0, 0, 0, 1, 0, 0, 0, 0, 0, 0, 0, 1, 1, 0, 1, 0, 0, 1, 0, 0, 0, 1, 0, 0, 0, 0, 0, 0, 0, 0, 0, 0, 0, 0, 0, 0, 0, 0, 0, 1, 0, 0, 0, 0, 0, 0, 0, 1, 0, 0, 0, 0, 0, 0, 0, 0, 0, 0, 0, 0, 0, 0, 1, 0, 0, 0, 1, 0, 0, 0, 0, 0, 0, 1, 0, 0, 0, 1, 0, 1, 0, 0, 0, 0, 0, 0, 0, 0, 1, 0, 1, 0, 0, 0, 0, 0, 0, 0, 0, 0, 0, 0, 0, 1, 0, 0, 0, 1, 0, 1, 1, 0, 0, 0, 0, 0, 0, 0, 0, 0, 0, 0, 0, 0, 0, 0, 0, 0, 0, 0, 0, 0, 1, 0, 0, 0, 0, 1, 0, 0, 1, 0, 0, 0, 0, 0, 0, 0, 0, 1, 0, 0, 0, 0, 0, 0, 1, 0, 0, 0, 0, 1, 0, 0, 0, 1, 0, 1, 0, 0, 0, 1, 1, 0, 1, 0, 0, 1, 0, 0, 0, 0, 0, 0, 0, 0, 0, 0, 0, 0, 0, 0, 0, 0, 0, 0, 0, 0, 0, 1, 1, 0, 0, 0, 1], [0, 0, 0, 0, 0, 0, 0, 0, 0, 0, 0, 1, 1, 0, 1, 0, 0, 0, 0, 0, 0, 0, 0, 0, 0, 0, 0, 0, 0, 0, 0, 0, 1, 1, 0, 0, 0, 0, 0, 0, 0, 1, 0, 0, 1, 0, 0, 0, 0, 0, 0, 1, 0, 0, 0, 0, 0, 0, 0, 0, 1, 0, 0, 0, 0, 0, 0, 0, 0, 0, 0, 1, 0, 1, 0, 0, 0, 0, 0, 0, 0, 0, 0, 0, 0, 0, 1, 1, 0, 0, 0, 0, 0, 1, 0, 0, 1, 0, 0, 0, 0, 0, 0, 0, 0, 0, 0, 0, 0, 0, 0, 1, 0, 0, 0, 0, 0, 1, 1, 1, 0, 0, 0, 0, 1, 0, 0, 0, 0, 1, 0, 1, 0, 0, 1, 0, 0, 1, 0, 0, 0, 0, 0, 1, 0, 1, 0, 0, 0, 0, 0, 0, 0, 0, 0, 0, 0, 0, 0, 0, 1, 0, 0, 0, 1, 1, 0, 1, 0, 0, 0, 0, 0, 1, 0, 0, 0, 0, 0, 0, 0, 0, 0, 0, 0, 0, 1, 0, 1, 1, 0, 0, 0, 0, 1, 0, 0, 1, 0, 0, 0, 0, 0, 0, 1, 1, 0, 0, 0, 0, 0, 0, 0, 0, 0, 1, 0, 0, 0, 0, 0, 1, 0, 0, 1, 1, 0, 0, 0, 0], [0, 0, 0, 0, 0, 0, 0, 0, 1, 0, 0, 0, 1, 0, 1, 0, 0, 0, 0, 0, 0, 0, 0, 0, 1, 0, 0, 0, 0, 0, 1, 1, 0, 0, 0, 0, 0, 0, 1, 0, 0, 0, 0, 1, 0, 1, 0, 1, 0, 0, 0, 0, 0, 0, 0, 0, 1, 0, 0, 0, 0, 0, 1, 1, 0, 1, 0, 0, 0, 1, 1, 1, 0, 0, 1, 0, 0, 0, 1, 1, 0, 0, 0, 0, 0, 0, 0, 0, 0, 1, 0, 0, 1, 0, 0, 0, 0, 0, 0, 0, 0, 0, 0, 0, 0, 0, 0, 0, 0, 0, 0, 0, 0, 0, 0, 0, 0, 0, 0, 0, 1, 0, 1, 0, 0, 1, 0, 0, 0, 0, 0, 0, 0, 0, 1, 0, 0, 0, 0, 0, 0, 1, 0, 0, 0, 0, 1, 0, 0, 0, 0, 0, 0, 0, 1, 0, 1, 0, 0, 0, 0, 0, 0, 0, 0, 1, 0, 1, 0, 0, 0, 0, 0, 0, 0, 0, 0, 0, 1, 0, 1, 0, 0, 0, 0, 0, 0, 0, 0, 0, 0, 0, 1, 0, 0, 0, 0, 1, 0, 0, 0, 0, 0, 0, 0, 0, 1, 0, 0, 0, 0, 0, 1, 0, 0, 0, 1, 0, 1, 0, 1, 0, 0, 0, 1, 0, 0, 0, 1, 0], [0, 1, 0, 0, 0, 0, 0, 0, 0, 0, 0, 1, 1, 0, 1, 1, 0, 0, 0, 0, 0, 0, 1, 1, 0, 0, 0, 0, 0, 0, 0, 1, 0, 0, 0, 0, 1, 0, 0, 0, 0, 0, 0, 0, 0, 0, 0, 0, 0, 0, 1, 0, 0, 0, 0, 0, 0, 0, 0, 0, 0, 0, 0, 0, 0, 0, 0, 0, 1, 0, 0, 0, 0, 0, 0, 0, 0, 1, 1, 0, 1, 0, 0, 0, 0, 1, 0, 1, 0, 0, 0, 0, 0, 0, 0, 1, 0, 1, 0, 0, 1, 1, 0, 0, 0, 1, 0, 0, 0, 0, 0, 0, 0, 0, 0, 0, 0, 0, 0, 0, 0, 0, 0, 1, 0, 0, 1, 0, 0, 0, 1, 0, 0, 0, 1, 0, 1, 0, 0, 0, 0, 0, 0, 1, 0, 1, 0, 0, 0, 1, 0, 0, 0, 0, 0, 0, 0, 0, 0, 0, 0, 0, 0, 0, 0, 1, 0, 1, 1, 0, 1, 1, 0, 0, 0, 0, 1, 0, 1, 0, 0, 0, 0, 0, 0, 0, 1, 0, 0, 0, 0, 0, 0, 0, 0, 1, 0, 1, 0, 0, 0, 0, 0, 0, 0, 0, 0, 0, 0, 0, 0, 0, 0, 0, 0, 1, 0, 0, 0, 0, 0, 0, 0, 0, 1, 1, 0, 0, 0, 0]]\n"
     ]
    }
   ],
   "source": [
    "tdmatrix = []\n",
    "for i in range(0,len(datos)):\n",
    "    doc = tdtransform(text=datos[i]['text'])\n",
    "    tdmatrix.append(doc)\n",
    "\n",
    "print(tdmatrix)"
   ]
  },
  {
   "cell_type": "markdown",
   "id": "a0abcd20f7bb7c44",
   "metadata": {},
   "source": [
    "## Paso 3: Obtener una representación de una _query_ en el espacio término-documento\n",
    "Ahora vamos a representar una _query_ como un vector en el mismo espacio de términos que hicimos para el corpus."
   ]
  },
  {
   "cell_type": "code",
   "execution_count": 16,
   "id": "f4abdc2c22664498",
   "metadata": {
    "ExecuteTime": {
     "end_time": "2024-10-22T13:01:09.239680Z",
     "start_time": "2024-10-22T13:01:09.223561Z"
    }
   },
   "outputs": [
    {
     "name": "stdout",
     "output_type": "stream",
     "text": [
      "[0, 0, 0, 0, 0, 0, 0, 0, 0, 0, 0, 0, 0, 0, 0, 0, 0, 0, 0, 0, 0, 0, 0, 0, 0, 0, 0, 0, 0, 0, 0, 0, 0, 0, 0, 0, 0, 0, 0, 0, 0, 0, 0, 0, 0, 0, 0, 0, 0, 0, 0, 0, 0, 0, 0, 0, 0, 0, 0, 0, 0, 0, 0, 0, 0, 0, 0, 0, 0, 0, 0, 0, 0, 0, 0, 0, 0, 0, 0, 0, 0, 0, 0, 0, 0, 0, 0, 0, 0, 0, 0, 0, 0, 1, 0, 0, 0, 0, 0, 0, 0, 0, 0, 0, 0, 0, 0, 0, 0, 0, 0, 0, 0, 0, 0, 0, 0, 0, 0, 0, 0, 0, 0, 0, 0, 0, 0, 0, 0, 0, 0, 0, 0, 0, 0, 0, 1, 0, 0, 0, 0, 0, 0, 0, 0, 0, 0, 0, 0, 0, 0, 0, 0, 0, 0, 0, 0, 0, 0, 0, 0, 0, 0, 0, 0, 0, 0, 1, 0, 0, 0, 0, 0, 0, 0, 0, 0, 0, 0, 0, 0, 0, 0, 0, 0, 0, 0, 0, 0, 0, 0, 0, 0, 0, 0, 0, 0, 0, 0, 0, 0, 0, 0, 0, 0, 1, 0, 0, 0, 0, 0, 0, 0, 0, 0, 0, 0, 0, 0, 0, 0, 0, 0, 0, 0, 0, 0, 0, 0, 0]\n"
     ]
    }
   ],
   "source": [
    "query = \"inteligencia artificial en medicina\"\n",
    "print(tdtransform(query))"
   ]
  },
  {
   "cell_type": "markdown",
   "id": "49b612552e0a24cb",
   "metadata": {},
   "source": [
    "## Paso 4: Calcular la distancia entre la _query_ y todos los documentos del corpus\n",
    "Al obtener la distancia Jaccard entre la _query_ y cada documento del corpus, calculamos la relevancia que tiene cada documento para la _query_ "
   ]
  },
  {
   "cell_type": "code",
   "execution_count": 18,
   "id": "3a4f43a8-95d3-445a-9043-9996884282fb",
   "metadata": {},
   "outputs": [
    {
     "name": "stdout",
     "output_type": "stream",
     "text": [
      "[0.9361702127659575, 0.9333333333333333, 0.9777777777777777, 1.0, 1.0, 0.9302325581395349, 0.9782608695652174, 0.9545454545454546]\n"
     ]
    }
   ],
   "source": [
    "def distancia_jaccard(vector1, vector2):\n",
    "    interseccion = 0\n",
    "    union = 0\n",
    "\n",
    "    for i in range(len(vector1)):\n",
    "        if vector1[i] == 1 and vector2[i] == 1:\n",
    "            interseccion += 1\n",
    "        if vector1[i] == 1 or vector2[i] == 1:\n",
    "            union += 1\n",
    "\n",
    "    if union == 0:\n",
    "        return 1\n",
    "\n",
    "    return 1 - (interseccion / union)\n",
    "\n",
    "vector_consulta = tdtransform(query)\n",
    "\n",
    "distancias = []\n",
    "for vector_doc in tdmatrix:\n",
    "    distancia = distancia_jaccard(vector_consulta, vector_doc)\n",
    "    distancias.append(distancia)\n",
    "\n",
    "print(distancias)\n"
   ]
  },
  {
   "cell_type": "markdown",
   "id": "3173b4cbd523e996",
   "metadata": {},
   "source": [
    "## Paso 5: Entregar los resultados de la búsqueda al usuario\n",
    "A partir de la _query_, debemos indicar al usuario cuáles documentos son los más relevantes. Se debe presentar la información en orden de relevancia."
   ]
  },
  {
   "cell_type": "code",
   "execution_count": 26,
   "id": "5b7e0939-5064-498e-86b0-2abac6435ea2",
   "metadata": {},
   "outputs": [
    {
     "name": "stdout",
     "output_type": "stream",
     "text": [
      "Documentos ordenados por relevancia:\n",
      "Documento 6 - Distancia Jaccard: 0.9302325581395349\n",
      "La ciencia ficción es uno de los géneros literarios más populares, explorando temas como el viaje en el tiempo, la inteligencia artificial y la vida en otros planetas. Este género no solo entretiene, sino que también invita a reflexionar sobre el futuro de la humanidad y las implicaciones de los avances tecnológicos.\n",
      "----------------------------------------------------------------------------------------------------\n",
      "Documento 2 - Distancia Jaccard: 0.9333333333333333\n",
      "El desarrollo de videojuegos ha alcanzado un nuevo nivel con tecnologías como la realidad aumentada y la inteligencia artificial. Los jugadores ahora pueden interactuar en mundos virtuales más inmersivos. Este crecimiento también impulsa el mercado de los e-sports, donde las competencias profesionales atraen a millones de espectadores en todo el mundo.\n",
      "----------------------------------------------------------------------------------------------------\n",
      "Documento 1 - Distancia Jaccard: 0.9361702127659575\n",
      "La inteligencia artificial continúa avanzando rápidamente, transformando sectores como la salud y las finanzas. Las empresas están adoptando algoritmos de aprendizaje automático para mejorar la eficiencia. Sin embargo, el desafío principal sigue siendo garantizar que las decisiones basadas en datos sean justas y no perpetúen sesgos. La ética es fundamental en este contexto.\n",
      "----------------------------------------------------------------------------------------------------\n",
      "Documento 8 - Distancia Jaccard: 0.9545454545454546\n",
      "Los avances en la medicina están cambiando la forma en que se diagnostican y tratan las enfermedades. Desde la telemedicina hasta los dispositivos portátiles que monitorean la salud en tiempo real, la tecnología está permitiendo a los médicos ofrecer cuidados más personalizados. El futuro de la medicina es prometedor, con tratamientos más accesibles y eficaces.\n",
      "----------------------------------------------------------------------------------------------------\n",
      "Documento 3 - Distancia Jaccard: 0.9777777777777777\n",
      "El comercio electrónico ha cambiado la forma en que compramos. Con la creciente demanda de compras en línea, las empresas están optimizando sus plataformas digitales para ofrecer mejores experiencias de usuario. Desde recomendaciones personalizadas hasta pagos rápidos, los avances en tecnología siguen facilitando las transacciones diarias de los consumidores.\n",
      "----------------------------------------------------------------------------------------------------\n",
      "Documento 7 - Distancia Jaccard: 0.9782608695652174\n",
      "El desarrollo personal se ha convertido en una prioridad para muchas personas que buscan mejorar su calidad de vida. Desde la adopción de hábitos saludables hasta el aprendizaje de nuevas habilidades, el enfoque en el crecimiento individual ha llevado a un aumento en la demanda de libros, cursos y aplicaciones que promueven el bienestar integral.\n",
      "----------------------------------------------------------------------------------------------------\n",
      "Documento 4 - Distancia Jaccard: 1.0\n",
      "La educación a distancia ha permitido a millones de estudiantes acceder a programas de calidad sin importar su ubicación. La flexibilidad es uno de los mayores beneficios, especialmente para aquellos con trabajos a tiempo completo. Aunque la falta de interacción presencial es un reto, las herramientas digitales siguen mejorando la experiencia educativa.\n",
      "----------------------------------------------------------------------------------------------------\n",
      "Documento 5 - Distancia Jaccard: 1.0\n",
      "El cine ha evolucionado con los años, incorporando efectos visuales cada vez más realistas. Las producciones cinematográficas utilizan tecnologías avanzadas para crear escenas que desafían la realidad. Además, el acceso a plataformas de streaming ha transformado cómo y cuándo el público consume contenido, democratizando el acceso a películas y series.\n",
      "----------------------------------------------------------------------------------------------------\n"
     ]
    }
   ],
   "source": [
    "sorted_docs = sorted(enumerate(distances), key=lambda x: x[1])\n",
    "\n",
    "print(\"Documentos ordenados por relevancia:\")\n",
    "for idx, dist in sorted_docs:\n",
    "    print(f\"Documento {idx + 1} - Distancia Jaccard: {dist}\")\n",
    "    print(datos[idx]['text'])  \n",
    "    print(\"-\" * 100)\n"
   ]
  },
  {
   "cell_type": "code",
   "execution_count": 22,
   "id": "a76847b8-0968-4abf-8e43-358f384aa90a",
   "metadata": {},
   "outputs": [
    {
     "name": "stdout",
     "output_type": "stream",
     "text": [
      "Documentos ordenados por relevancia:\n",
      "Documento 6 - Distancia Jaccard: 0.9302325581395349\n",
      "La ciencia ficción es uno de los géneros literarios más populares, explorando temas como el viaje en el tiempo, la inteligencia artificial y la vida en otros planetas. Este género no solo entretiene, sino que también invita a reflexionar sobre el futuro de la humanidad y las implicaciones de los avances tecnológicos.\n",
      "-----------------------------------------------------\n",
      "Documento 2 - Distancia Jaccard: 0.9333333333333333\n",
      "El desarrollo de videojuegos ha alcanzado un nuevo nivel con tecnologías como la realidad aumentada y la inteligencia artificial. Los jugadores ahora pueden interactuar en mundos virtuales más inmersivos. Este crecimiento también impulsa el mercado de los e-sports, donde las competencias profesionales atraen a millones de espectadores en todo el mundo.\n",
      "-----------------------------------------------------\n",
      "Documento 1 - Distancia Jaccard: 0.9361702127659575\n",
      "La inteligencia artificial continúa avanzando rápidamente, transformando sectores como la salud y las finanzas. Las empresas están adoptando algoritmos de aprendizaje automático para mejorar la eficiencia. Sin embargo, el desafío principal sigue siendo garantizar que las decisiones basadas en datos sean justas y no perpetúen sesgos. La ética es fundamental en este contexto.\n",
      "-----------------------------------------------------\n",
      "Documento 8 - Distancia Jaccard: 0.9545454545454546\n",
      "Los avances en la medicina están cambiando la forma en que se diagnostican y tratan las enfermedades. Desde la telemedicina hasta los dispositivos portátiles que monitorean la salud en tiempo real, la tecnología está permitiendo a los médicos ofrecer cuidados más personalizados. El futuro de la medicina es prometedor, con tratamientos más accesibles y eficaces.\n",
      "-----------------------------------------------------\n",
      "Documento 3 - Distancia Jaccard: 0.9777777777777777\n",
      "El comercio electrónico ha cambiado la forma en que compramos. Con la creciente demanda de compras en línea, las empresas están optimizando sus plataformas digitales para ofrecer mejores experiencias de usuario. Desde recomendaciones personalizadas hasta pagos rápidos, los avances en tecnología siguen facilitando las transacciones diarias de los consumidores.\n",
      "-----------------------------------------------------\n",
      "Documento 7 - Distancia Jaccard: 0.9782608695652174\n",
      "El desarrollo personal se ha convertido en una prioridad para muchas personas que buscan mejorar su calidad de vida. Desde la adopción de hábitos saludables hasta el aprendizaje de nuevas habilidades, el enfoque en el crecimiento individual ha llevado a un aumento en la demanda de libros, cursos y aplicaciones que promueven el bienestar integral.\n",
      "-----------------------------------------------------\n",
      "Documento 4 - Distancia Jaccard: 1.0\n",
      "La educación a distancia ha permitido a millones de estudiantes acceder a programas de calidad sin importar su ubicación. La flexibilidad es uno de los mayores beneficios, especialmente para aquellos con trabajos a tiempo completo. Aunque la falta de interacción presencial es un reto, las herramientas digitales siguen mejorando la experiencia educativa.\n",
      "-----------------------------------------------------\n",
      "Documento 5 - Distancia Jaccard: 1.0\n",
      "El cine ha evolucionado con los años, incorporando efectos visuales cada vez más realistas. Las producciones cinematográficas utilizan tecnologías avanzadas para crear escenas que desafían la realidad. Además, el acceso a plataformas de streaming ha transformado cómo y cuándo el público consume contenido, democratizando el acceso a películas y series.\n",
      "-----------------------------------------------------\n"
     ]
    }
   ],
   "source": [
    "doc_distancias = list(enumerate(distancias))\n",
    "\n",
    "doc_sorted = sorted(doc_distancias, key=lambda x: x[1])\n",
    "\n",
    "print(\"Documentos ordenados por relevancia:\")\n",
    "for i in range(len(doc_sorted)):\n",
    "    idx = doc_sorted[i][0]\n",
    "    dist = doc_sorted[i][1]\n",
    "    print(\"Documento\", idx + 1, \"- Distancia Jaccard:\", dist)\n",
    "    print(datos[idx]['text'])\n",
    "    print(\"-----------------------------------------------------\")\n"
   ]
  },
  {
   "cell_type": "code",
   "execution_count": null,
   "id": "9caa6433-3450-4a1f-a6c6-a731aacfc54f",
   "metadata": {},
   "outputs": [],
   "source": []
  },
  {
   "cell_type": "code",
   "execution_count": null,
   "id": "3bca01ac-f883-40de-a09b-71e3c4254a34",
   "metadata": {},
   "outputs": [],
   "source": []
  }
 ],
 "metadata": {
  "kernelspec": {
   "display_name": "Python 3 (ipykernel)",
   "language": "python",
   "name": "python3"
  },
  "language_info": {
   "codemirror_mode": {
    "name": "ipython",
    "version": 3
   },
   "file_extension": ".py",
   "mimetype": "text/x-python",
   "name": "python",
   "nbconvert_exporter": "python",
   "pygments_lexer": "ipython3",
   "version": "3.12.7"
  }
 },
 "nbformat": 4,
 "nbformat_minor": 5
}
